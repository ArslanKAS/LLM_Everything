{
 "cells": [
  {
   "cell_type": "markdown",
   "id": "8627e955",
   "metadata": {},
   "source": [
    "# LLM_JSON_Repair\n",
    "\n",
    "* For GenAI purposes we use LLMs\n",
    "* We need outputs in JSON format from LLMs\n",
    "* LLMs sometimes don't give response in proper JSON format\n",
    "* To address this the `parse_json_output` function is meant to handle all sorts of broken JSON issues\n",
    "* We've also used `json_repair` package to further help us out"
   ]
  },
  {
   "cell_type": "code",
   "execution_count": 1,
   "id": "109856d0",
   "metadata": {},
   "outputs": [],
   "source": [
    "!pip install --upgrade -r \"/home/ec2-user/SageMaker/15. Essential Code/requirements.txt\" -q"
   ]
  },
  {
   "cell_type": "code",
   "execution_count": 5,
   "id": "cad0fe86",
   "metadata": {},
   "outputs": [],
   "source": [
    "import json, re, pprint, ast\n",
    "import pprint\n",
    "from json_repair import repair_json"
   ]
  },
  {
   "cell_type": "code",
   "execution_count": 6,
   "id": "f1f46cec",
   "metadata": {},
   "outputs": [],
   "source": [
    "# FIX LLM JSON OUTPUTS | DONT WORRY, IT WORKS FOR ALL BAD RESPONSES OF LLM\n",
    "#=========================================================================\n",
    "def parse_json_output(input_str):\n",
    "\n",
    "    def remove_non_printable_chars(s):\n",
    "        \"\"\"\n",
    "        Remove all non-printable characters using regex\n",
    "        \"\"\"\n",
    "        return re.sub(r'[\\x00-\\x1F\\x7F-\\x9F]', '', s)\n",
    "    \n",
    "    def semifinal_resolve(input_str):\n",
    "        \"\"\"\n",
    "        Get all the content between first and last curly bracket\n",
    "        \"\"\"\n",
    "        # Find the index of the first curly bracket\n",
    "        start_index = input_str.index('{')\n",
    "        # Find the index of the last curly bracket\n",
    "        end_index = input_str.rindex('}')\n",
    "        # Extract the content between the curly brackets\n",
    "        json_content = input_str[start_index:end_index+1]\n",
    "        # Parse the extracted JSON content\n",
    "        parsed_json = json.loads(json_content)\n",
    "        return parsed_json\n",
    "    \n",
    "    def final_resolve(input_str):\n",
    "        fixed_json = repair_json(input_str)\n",
    "        if isinstance(fixed_json, dict):\n",
    "            pass\n",
    "        elif isinstance(fixed_json, str):\n",
    "            try:\n",
    "                fixed_json = json.loads(fixed_json)\n",
    "            except json.JSONDecodeError:\n",
    "                try:\n",
    "                    fixed_json = ast.literal_eval(fixed_json)\n",
    "                except ValueError:\n",
    "                    pass\n",
    "\n",
    "        return fixed_json\n",
    "\n",
    "    # Check if the string contains the regular non-printable characters then replace them\n",
    "    input_str = input_str.replace('\\n', ' ').replace('    ', '')\n",
    "    \n",
    "    # Check if the input string is marked as JSON within triple backticks\n",
    "    if input_str.startswith(\"```json\") and input_str.endswith(\"```\"):\n",
    "        # Extract the JSON content between the triple backticks\n",
    "        json_content = input_str[7:-3].strip()\n",
    "        # Parse the extracted JSON content\n",
    "        try:\n",
    "            parsed_json = json.loads(json_content)\n",
    "        except json.JSONDecodeError as e:\n",
    "            print(\"Failed at 1st step:\", e)\n",
    "            try:\n",
    "                parsed_json = semifinal_resolve(input_str)\n",
    "                return parsed_json\n",
    "            except ValueError:\n",
    "                print(\"No valid JSON-like content found\")\n",
    "                return None\n",
    "        return parsed_json\n",
    "\n",
    "    if re.search(r'[\\x00-\\x1F\\x7F-\\x9F]', input_str):\n",
    "        # If it contains all sorts of non-printable characters, remove them\n",
    "        input_str_cleaned = remove_non_printable_chars(input_str)\n",
    "        # Check if the last character is a quotation mark\n",
    "        if input_str_cleaned[-1] == '\"':\n",
    "            # Remove the last character (extra closing quotation mark)\n",
    "            input_str_cleaned = input_str_cleaned[:-1]\n",
    "        # Check if the first character is a quotation mark\n",
    "        if input_str_cleaned[0] == '\"':\n",
    "            # Remove the first character (extra opening quotation mark)\n",
    "            input_str_cleaned = input_str_cleaned[1:]\n",
    "        # Now parse the cleaned JSON string\n",
    "        try:\n",
    "            parsed_json = json.loads(input_str_cleaned)\n",
    "        except json.JSONDecodeError as e:\n",
    "            print(\"Failed at 2nd step:\", e)\n",
    "            try:\n",
    "                parsed_json = semifinal_resolve(input_str)\n",
    "                return parsed_json\n",
    "            except ValueError:\n",
    "                print(\"No valid JSON-like content found\")\n",
    "                return None\n",
    "\n",
    "    # If all previous conditions fail, attempt to extract JSON-like content surrounded by curly brackets\n",
    "    try:\n",
    "        parsed_json = json.loads(input_str)\n",
    "        return parsed_json\n",
    "    except json.JSONDecodeError as e:\n",
    "        print(\"Failed at 3rd step:\", e)\n",
    "        try:\n",
    "            parsed_json = semifinal_resolve(input_str)\n",
    "            return parsed_json\n",
    "        except ValueError:\n",
    "            print(\"Failed at semifinal_resolve\")\n",
    "            try:\n",
    "                parsed_json = final_resolve(input_str)\n",
    "                return parsed_json\n",
    "            except ValueError:\n",
    "                print(\"No valid JSON-like content found\")\n",
    "                return None"
   ]
  },
  {
   "cell_type": "markdown",
   "id": "45d19e0f",
   "metadata": {},
   "source": [
    "## Test the `parse_json_output`"
   ]
  },
  {
   "cell_type": "code",
   "execution_count": 7,
   "id": "db9d835d",
   "metadata": {},
   "outputs": [
    {
     "name": "stdout",
     "output_type": "stream",
     "text": [
      "Failed at 3rd step: Expecting value: line 1 column 26 (char 25)\n",
      "Failed at semifinal_resolve\n"
     ]
    },
    {
     "data": {
      "text/plain": [
       "{'Loss': {'Hi there': 'budy', 'whats up': 'nothing'}}"
      ]
     },
     "execution_count": 7,
     "metadata": {},
     "output_type": "execute_result"
    }
   ],
   "source": [
    "bad_json_string = \"\"\"\n",
    "            {\n",
    "                \"Loss\": {\n",
    "                        \"Hi there\": budy,\n",
    "                        \"whats up\": nothing\n",
    "                        }\n",
    "            }\n",
    "\"\"\"\n",
    "\n",
    "fixed = parse_json_output(bad_json_string)\n",
    "fixed"
   ]
  },
  {
   "cell_type": "code",
   "execution_count": 8,
   "id": "c3adae7f",
   "metadata": {},
   "outputs": [
    {
     "name": "stdout",
     "output_type": "stream",
     "text": [
      "('{\"Summary\": \"The call involved a customer following up on a request '\n",
      " 'regarding account extensions and splits. The agent provided updates and '\n",
      " 'escalated the issue for further investigation.\", \"Primary topic\": \"Account '\n",
      " 'extensions and splits\", \"Primary topic explanation\": \"Customer inquired '\n",
      " 'about extending account terms and splitting an account.\", \"Secondary topic\": '\n",
      " '\"Escalation and investigation\", \"Secondary topic explanation\": \"Agent '\n",
      " 'escalated the issue for further investigation and provided updates to the '\n",
      " 'customer.\", \"Issue resolution\": \"Partially resolved\", \"Issue resolution '\n",
      " 'explanation\": \"The agent raised the issue for investigation and provided the '\n",
      " 'customer with a reference number for tracking. The resolution is pending '\n",
      " 'further updates from the team.\"}')\n"
     ]
    }
   ],
   "source": [
    "output = \"\"\"\n",
    "```{json}\n",
    "{{\n",
    "    \"Summary\": \"The call involved a customer following up on a request regarding account extensions and splits. The agent provided updates and escalated the issue for further investigation.\",\n",
    "    \"Primary topic\": \"Account extensions and splits\",\n",
    "    \"Primary topic explanation\": \"Customer inquired about extending account terms and splitting an account.\",\n",
    "    \"Secondary topic\": \"Escalation and investigation\",\n",
    "    \"Secondary topic explanation\": \"Agent escalated the issue for further investigation and provided updates to the customer.\",\n",
    "    \"Issue resolution\": \"Partially resolved\",\n",
    "    \"Issue resolution explanation\": \"The agent raised the issue for investigation and provided the customer with a reference number for tracking. The resolution is pending further updates from the team.\"\n",
    "}{}\n",
    "```\n",
    "\"\"\"\n",
    "\n",
    "pprint.pp(repair_json(output))"
   ]
  },
  {
   "cell_type": "code",
   "execution_count": null,
   "id": "da4f2129",
   "metadata": {},
   "outputs": [],
   "source": []
  }
 ],
 "metadata": {
  "kernelspec": {
   "display_name": "conda_python3",
   "language": "python",
   "name": "conda_python3"
  },
  "language_info": {
   "codemirror_mode": {
    "name": "ipython",
    "version": 3
   },
   "file_extension": ".py",
   "mimetype": "text/x-python",
   "name": "python",
   "nbconvert_exporter": "python",
   "pygments_lexer": "ipython3",
   "version": "3.10.14"
  }
 },
 "nbformat": 4,
 "nbformat_minor": 5
}
